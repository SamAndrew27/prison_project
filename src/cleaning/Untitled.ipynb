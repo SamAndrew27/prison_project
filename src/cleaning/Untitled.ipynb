{
 "cells": [
  {
   "cell_type": "code",
   "execution_count": 7,
   "metadata": {},
   "outputs": [],
   "source": [
    "import pandas as pd"
   ]
  },
  {
   "cell_type": "code",
   "execution_count": 8,
   "metadata": {},
   "outputs": [],
   "source": [
    "from cleaning_second_half import clean_all_second_half\n",
    "from cleaning_first_half import clean_all_first_half, load_data_or_legend\n",
    "from join_years import load_all_years, death_life\n",
    "\n",
    "df_1 = clean_all_first_half()\n",
    "df_2 = clean_all_second_half()\n",
    "df = load_all_years()"
   ]
  },
  {
   "cell_type": "code",
   "execution_count": 10,
   "metadata": {},
   "outputs": [
    {
     "data": {
      "text/plain": [
       "{1, 2, 3}"
      ]
     },
     "execution_count": 10,
     "metadata": {},
     "output_type": "execute_result"
    }
   ],
   "source": [
    "result = set()\n",
    "for elem in df.crime:\n",
    "    result.add(len(elem))\n",
    "result"
   ]
  },
  {
   "cell_type": "code",
   "execution_count": 4,
   "metadata": {},
   "outputs": [
    {
     "data": {
      "text/plain": [
       "{'Abortion',\n",
       " 'Administering Poison',\n",
       " 'Arson',\n",
       " 'Assault',\n",
       " 'Assault to Ravish',\n",
       " 'Assault w/ Intent to Kill',\n",
       " 'Assault w/ Intent to Murder',\n",
       " 'Assault w/ Intent to Rape',\n",
       " 'Assault w/ Intent to Rob',\n",
       " 'Assisting to Kill',\n",
       " 'Assisting to Murder',\n",
       " 'Attempt to Rob',\n",
       " 'Attempted Arson',\n",
       " 'Attempted Murder',\n",
       " 'Attempted Robbery',\n",
       " 'Bigamy',\n",
       " 'Buggary',\n",
       " 'Burglary',\n",
       " 'Cheat',\n",
       " 'Confidence Games',\n",
       " 'Conspiracy',\n",
       " 'Conspiring to Murder',\n",
       " 'Counterfeiting',\n",
       " 'Crime Against Nature',\n",
       " 'Defacing Brands',\n",
       " 'Effacing and Defacing Brands',\n",
       " 'Embezzlement',\n",
       " 'False Imp',\n",
       " 'False Pretenses',\n",
       " 'Felonious Assault',\n",
       " 'Felony',\n",
       " 'Felony, Branding Stock',\n",
       " 'Forgery',\n",
       " 'Grand Larceny',\n",
       " 'Having Burgular Tools',\n",
       " 'Having Ficticious Checks',\n",
       " 'Having Tools with Intent to Commit Burglary',\n",
       " 'Having Tools with Intent to Enter Building',\n",
       " 'Illegal Voting',\n",
       " 'Incest',\n",
       " 'Kidnapping',\n",
       " 'Killing Cattle',\n",
       " 'Killing Stock',\n",
       " 'Larceny',\n",
       " 'Larceny as Bailee',\n",
       " 'Larceny from Person',\n",
       " 'Malicious Mischief',\n",
       " 'Maliciously Destroying Check',\n",
       " 'Manslaughter',\n",
       " 'Mayhem',\n",
       " 'Murder',\n",
       " 'Obstructing of Railroad Track',\n",
       " 'Perjury',\n",
       " 'Rape',\n",
       " 'Receiving Stolen Goods',\n",
       " 'Rescue of Prisoner',\n",
       " 'Robbery',\n",
       " 'Sodomy',\n",
       " 'Stealing / Killing Cattle',\n",
       " 'Stealing Stock',\n",
       " 'Train Wrecking',\n",
       " 'Using Instruments with Intent to Commit Abortion',\n",
       " 'Uttering',\n",
       " 'Uttering Forgery',\n",
       " 'Voluntary Manslaughter'}"
      ]
     },
     "execution_count": 4,
     "metadata": {},
     "output_type": "execute_result"
    }
   ],
   "source": [
    "result = set()\n",
    "for idx, row in df.iterrows():\n",
    "    for elem in row['crime']:\n",
    "        result.add(elem)\n",
    "result"
   ]
  },
  {
   "cell_type": "markdown",
   "metadata": {},
   "source": [
    "### Columns to look at:\n",
    "term\n",
    "nativity\n",
    "crime\n",
    "race"
   ]
  },
  {
   "cell_type": "code",
   "execution_count": 11,
   "metadata": {},
   "outputs": [
    {
     "data": {
      "text/plain": [
       "{0.17,\n",
       " 0.25,\n",
       " 0.33,\n",
       " 0.5,\n",
       " 0.83,\n",
       " 1.0,\n",
       " 1.04,\n",
       " 1.08,\n",
       " 1.17,\n",
       " 1.25,\n",
       " 1.33,\n",
       " 1.5,\n",
       " 1.58,\n",
       " 1.6,\n",
       " 1.66,\n",
       " 1.67,\n",
       " 1.75,\n",
       " 10.0,\n",
       " 10.5,\n",
       " 11.0,\n",
       " 11.08,\n",
       " 12.0,\n",
       " 13.0,\n",
       " 13.5,\n",
       " 14.0,\n",
       " 15.0,\n",
       " 16.0,\n",
       " 18.0,\n",
       " 2.0,\n",
       " 2.25,\n",
       " 2.33,\n",
       " 2.42,\n",
       " 2.5,\n",
       " 2.6,\n",
       " 2.75,\n",
       " 2.83,\n",
       " 20.0,\n",
       " 21.0,\n",
       " 24.0,\n",
       " 25.0,\n",
       " 26.0,\n",
       " 28.0,\n",
       " 3.0,\n",
       " 3.125,\n",
       " 3.25,\n",
       " 3.5,\n",
       " 3.67,\n",
       " 3.75,\n",
       " 3.83,\n",
       " 30.0,\n",
       " 33.0,\n",
       " 37.0,\n",
       " 4.0,\n",
       " 4.17,\n",
       " 4.25,\n",
       " 4.5,\n",
       " 4.66,\n",
       " 4.67,\n",
       " 4.75,\n",
       " 40.0,\n",
       " 45.0,\n",
       " 5.0,\n",
       " 5.08,\n",
       " 5.17,\n",
       " 5.5,\n",
       " 6.0,\n",
       " 6.5,\n",
       " 6.66,\n",
       " 6.67,\n",
       " 7.0,\n",
       " 7.08,\n",
       " 7.5,\n",
       " 8.0,\n",
       " 8.25,\n",
       " 8.5,\n",
       " 9.0,\n",
       " 9.25,\n",
       " 9.5,\n",
       " 9.67,\n",
       " 99.0,\n",
       " '?',\n",
       " 'Death',\n",
       " 'Life'}"
      ]
     },
     "execution_count": 11,
     "metadata": {},
     "output_type": "execute_result"
    }
   ],
   "source": [
    "result = set()\n",
    "for idx, row in df.iterrows():\n",
    "    lst = row['term']\n",
    "    for elem in lst:\n",
    "        result.add(elem)\n",
    "result"
   ]
  },
  {
   "cell_type": "code",
   "execution_count": 13,
   "metadata": {},
   "outputs": [
    {
     "data": {
      "text/plain": [
       "array([4.5, 1.5, 'Life', 8.0, 3.0, 10.0, 2.0, 5.0, 6.0, 2.5, 1.0, 4.0,\n",
       "       15.0, 7.0, 1.33, 3.5, 2.75, 2.33, 1.25, 16.0, 6.5, 14.0, 5.5, 1.66,\n",
       "       1.17, 0.33, 4.75, 6.66, 1.08, 4.66, 1.75, 37.0, 20.0, 9.0, 12.0,\n",
       "       2.25, 21.0, 6.67, 8.5, 4.67, 3.67, 3.125, 9.5, '?', 13.0, 33.0,\n",
       "       25.0, 40.0, 4.17, 8.25, 'Death', 1.67, 7.5, 9.25, 11.0, 1.6, 0.83,\n",
       "       2.6, 0.25, 2.42, 0.17, 7.08, 26.0, 24.0, 4.25, 13.5, 30.0, 10.5,\n",
       "       3.75, 18.0, 99.0, 28.0, 11.08, 45.0, 1.04], dtype=object)"
      ]
     },
     "execution_count": 13,
     "metadata": {},
     "output_type": "execute_result"
    }
   ],
   "source": [
    "df.max_term.unique()"
   ]
  },
  {
   "cell_type": "code",
   "execution_count": 12,
   "metadata": {},
   "outputs": [
    {
     "data": {
      "text/plain": [
       "['Alabama',\n",
       " 'Alaska',\n",
       " 'Arizona',\n",
       " 'Arkansas',\n",
       " 'California',\n",
       " 'Colorado',\n",
       " 'Connecticut',\n",
       " 'Delaware',\n",
       " 'District of Columbia',\n",
       " 'Florida',\n",
       " 'Georgia',\n",
       " 'Hawaii',\n",
       " 'Idaho',\n",
       " 'Illinois',\n",
       " 'Indiana',\n",
       " 'Iowa',\n",
       " 'Kansas',\n",
       " 'Kentucky',\n",
       " 'Louisiana',\n",
       " 'Maine',\n",
       " 'Maryland',\n",
       " 'Massachusetts',\n",
       " 'Michigan',\n",
       " 'Minnesota',\n",
       " 'Mississippi',\n",
       " 'Missouri',\n",
       " 'Montana',\n",
       " 'Nebraska',\n",
       " 'Nevada',\n",
       " 'New Hampshire',\n",
       " 'New Jersey',\n",
       " 'New Mexico',\n",
       " 'New York',\n",
       " 'North Carolina',\n",
       " 'North Dakota',\n",
       " 'Ohio',\n",
       " 'Oklahoma',\n",
       " 'Oregon',\n",
       " 'Pennsylvania',\n",
       " 'Puerto Rico',\n",
       " 'Rhode Island',\n",
       " 'South Carolina',\n",
       " 'South Dakota',\n",
       " 'Tennessee',\n",
       " 'Texas',\n",
       " 'Utah',\n",
       " 'Vermont',\n",
       " 'Virginia',\n",
       " 'Virgin Islands',\n",
       " 'Washington',\n",
       " 'West Virginia',\n",
       " 'Wisconsin',\n",
       " 'Wyoming']"
      ]
     },
     "execution_count": 12,
     "metadata": {},
     "output_type": "execute_result"
    }
   ],
   "source": [
    "legend = load_data_or_legend(False)\n",
    "states = list(legend['State Names'].dropna())\n",
    "states"
   ]
  },
  {
   "cell_type": "code",
   "execution_count": 11,
   "metadata": {},
   "outputs": [
    {
     "data": {
      "text/plain": [
       "array(['Massachusetts', 'District of Columbia', 'Pennsylvania', 'Canada',\n",
       "       'California', 'Italy', 'Kentucky', 'England', 'Ohio', 'Iowa',\n",
       "       'New York', 'Missouri', 'Maryland', 'Illinois', 'Wisconsin',\n",
       "       'Ireland', 'Germany', 'France', 'Louisiana', 'Indiana', 'Michigan',\n",
       "       'Minnesota', 'Alabama', 'Virginia', 'Austria', 'New Mexico',\n",
       "       'Mexico', 'Kansas', 'Georgia', 'Indian Territory', 'Texas',\n",
       "       'Prussia', 'North Carolina', 'Isle of Man', 'Nebraska',\n",
       "       'Tennessee', 'Saxony', 'Vermont', 'South Carolina', 'Maine',\n",
       "       'Mississippi', 'New Jersey', 'Nova Scotia', 'Bohemia',\n",
       "       'Connecticut', 'Rhode Island', 'Colorado', 'West Virginia',\n",
       "       'Russia', 'Scotland', 'Switzerland', 'Cuba', 'Australia', 'Utah',\n",
       "       'Sweden', 'Florida', 'Norway', 'Arkansas', 'Arizona',\n",
       "       \"Prince Edward's Island\", 'Wyoming', 'Oregon', 'New Hampshire',\n",
       "       'Hungary', 'China', 'Denmark', 'Alsace', 'Wales', 'Alaska',\n",
       "       'Montana', 'Poland', 'Delaware', 'On the Sea', 'East Indies'],\n",
       "      dtype=object)"
      ]
     },
     "execution_count": 11,
     "metadata": {},
     "output_type": "execute_result"
    }
   ],
   "source": [
    "df_total = pd.concat([df_1, df_2])\n",
    "df_total.info()"
   ]
  },
  {
   "cell_type": "code",
   "execution_count": 13,
   "metadata": {},
   "outputs": [
    {
     "data": {
      "text/plain": [
       "array(['White', 'Mexican', 'Black', 'Mulatto', 'Indian', 'Mongolian'],\n",
       "      dtype=object)"
      ]
     },
     "execution_count": 13,
     "metadata": {},
     "output_type": "execute_result"
    }
   ],
   "source": [
    "df_1.clean_race.unique()"
   ]
  },
  {
   "cell_type": "code",
   "execution_count": 14,
   "metadata": {},
   "outputs": [],
   "source": [
    "mex_df = df_1[df_1['clean_race']=='Indian Territory']"
   ]
  },
  {
   "cell_type": "code",
   "execution_count": 20,
   "metadata": {},
   "outputs": [
    {
     "data": {
      "text/plain": [
       "New Mexico    22\n",
       "Colorado       8\n",
       "Mexico         2\n",
       "Arizona        1\n",
       "Ireland        1\n",
       "California     1\n",
       "Name: clean_nativity, dtype: int64"
      ]
     },
     "execution_count": 20,
     "metadata": {},
     "output_type": "execute_result"
    }
   ],
   "source": [
    "mex_df.clean_nativity.value_counts()"
   ]
  },
  {
   "cell_type": "code",
   "execution_count": 21,
   "metadata": {},
   "outputs": [
    {
     "data": {
      "text/plain": [
       "35"
      ]
     },
     "execution_count": 21,
     "metadata": {},
     "output_type": "execute_result"
    }
   ],
   "source": [
    "len(mex_df)"
   ]
  },
  {
   "cell_type": "code",
   "execution_count": null,
   "metadata": {},
   "outputs": [],
   "source": [
    "'Cheat',\n",
    "'Confidence Games',\n",
    "'Conspiracy',\n",
    "'Counterfeiting',\n",
    "'Embezzlement',\n",
    "'False Imp',\n",
    "'False Pretenses',\n",
    "'Forgery',\n",
    "'Having Ficticious Checks',\n",
    "'Illegal Voting',\n",
    "'Killing Cattle',\n",
    "'Killing Stock',\n",
    "'Maliciously Destroying Check',\n",
    "'Perjury',\n",
    "'Rescue of Prisoner',\n",
    "'Uttering',\n",
    "'Uttering Forgery',\n"
   ]
  },
  {
   "cell_type": "code",
   "execution_count": null,
   "metadata": {},
   "outputs": [],
   "source": []
  },
  {
   "cell_type": "code",
   "execution_count": null,
   "metadata": {},
   "outputs": [],
   "source": []
  },
  {
   "cell_type": "code",
   "execution_count": null,
   "metadata": {},
   "outputs": [],
   "source": []
  },
  {
   "cell_type": "code",
   "execution_count": null,
   "metadata": {},
   "outputs": [],
   "source": []
  }
 ],
 "metadata": {
  "kernelspec": {
   "display_name": "Python 3",
   "language": "python",
   "name": "python3"
  },
  "language_info": {
   "codemirror_mode": {
    "name": "ipython",
    "version": 3
   },
   "file_extension": ".py",
   "mimetype": "text/x-python",
   "name": "python",
   "nbconvert_exporter": "python",
   "pygments_lexer": "ipython3",
   "version": "3.7.9"
  }
 },
 "nbformat": 4,
 "nbformat_minor": 4
}
