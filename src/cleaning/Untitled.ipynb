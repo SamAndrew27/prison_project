{
 "cells": [
  {
   "cell_type": "code",
   "execution_count": 1,
   "metadata": {},
   "outputs": [],
   "source": [
    "import pandas"
   ]
  },
  {
   "cell_type": "code",
   "execution_count": 2,
   "metadata": {},
   "outputs": [],
   "source": [
    "from cleaning_second_half import clean_all_second_half\n",
    "from cleaning_first_half import clean_all_first_half, load_data_or_legend\n",
    "\n",
    "df_1 = clean_all_first_half()\n",
    "df_2 = clean_all_second_half()"
   ]
  },
  {
   "cell_type": "code",
   "execution_count": 3,
   "metadata": {},
   "outputs": [
    {
     "name": "stdout",
     "output_type": "stream",
     "text": [
      "<class 'pandas.core.frame.DataFrame'>\n",
      "RangeIndex: 1455 entries, 0 to 1454\n",
      "Data columns (total 14 columns):\n",
      " #   Column              Non-Null Count  Dtype  \n",
      "---  ------              --------------  -----  \n",
      " 0   Age                 145 non-null    float64\n",
      " 1   Term                1455 non-null   object \n",
      " 2   Crime               1455 non-null   object \n",
      " 3   Nativity            1455 non-null   object \n",
      " 4   Race                1455 non-null   object \n",
      " 5   Page                482 non-null    float64\n",
      " 6   File                1454 non-null   float64\n",
      " 7   Year                1455 non-null   int64  \n",
      " 8   term_clean          1455 non-null   object \n",
      " 9   crime_clean         1455 non-null   object \n",
      " 10  clean_nativity      1455 non-null   object \n",
      " 11  clean_race          1455 non-null   object \n",
      " 12  race_adjusted       1455 non-null   object \n",
      " 13  nativity_no_states  1455 non-null   object \n",
      "dtypes: float64(3), int64(1), object(10)\n",
      "memory usage: 159.3+ KB\n"
     ]
    }
   ],
   "source": [
    "df_1.info()"
   ]
  },
  {
   "cell_type": "code",
   "execution_count": 4,
   "metadata": {},
   "outputs": [
    {
     "name": "stdout",
     "output_type": "stream",
     "text": [
      "<class 'pandas.core.frame.DataFrame'>\n",
      "RangeIndex: 1613 entries, 0 to 1612\n",
      "Data columns (total 9 columns):\n",
      " #   Column             Non-Null Count  Dtype \n",
      "---  ------             --------------  ----- \n",
      " 0   Term               1613 non-null   object\n",
      " 1   Crime              1613 non-null   object\n",
      " 2   Nationality        1613 non-null   object\n",
      " 3   File               1613 non-null   int64 \n",
      " 4   Year               1613 non-null   int64 \n",
      " 5   term_clean         1613 non-null   object\n",
      " 6   crime_clean        1613 non-null   object\n",
      " 7   clean_nationality  1613 non-null   object\n",
      " 8   race               1613 non-null   object\n",
      "dtypes: int64(2), object(7)\n",
      "memory usage: 113.5+ KB\n"
     ]
    }
   ],
   "source": [
    "df_2.info()"
   ]
  },
  {
   "cell_type": "code",
   "execution_count": 6,
   "metadata": {},
   "outputs": [
    {
     "data": {
      "text/plain": [
       "array(['United States', 'Ireland', 'Black', 'Sweden', 'Germany', 'France',\n",
       "       'Bohemia', 'Scotland', 'Mexican', 'England', 'Canada', 'Italy',\n",
       "       'Austria', 'Prussia', 'Hungary', '?', 'Swiss', 'China', 'Denmark',\n",
       "       'Wales', \"Prince Edward's Island\", 'Cuba', 'Australia',\n",
       "       'Isle of Man', 'Russia', 'Spanish', 'Japan'], dtype=object)"
      ]
     },
     "execution_count": 6,
     "metadata": {},
     "output_type": "execute_result"
    }
   ],
   "source": [
    "df_total = pd.concat([df_1, df_2])"
   ]
  },
  {
   "cell_type": "code",
   "execution_count": 22,
   "metadata": {},
   "outputs": [
    {
     "data": {
      "text/plain": [
       "array(['Massachusetts', 'District of Columbia', 'Pennsylvania', 'Canada',\n",
       "       'California', 'Italy', 'Kentucky', 'England', 'Ohio', 'Iowa',\n",
       "       'New York', 'Missouri', 'Maryland', 'Illinois', 'Wisconsin',\n",
       "       'Ireland', 'Germany', 'France', 'Louisiana', 'Indiana', 'Michigan',\n",
       "       'Minnesota', 'Alabama', 'Virginia', 'Austria', 'New Mexico',\n",
       "       'Mexico', 'Kansas', 'Georgia', 'Indian Territory', 'Texas',\n",
       "       'Prussia', 'North Carolina', 'Isle of Man', 'Nebraska',\n",
       "       'Tennessee', 'Saxony', 'Vermont', 'South Carolina', 'Maine',\n",
       "       'Mississippi', 'New Jersey', 'Nova Scotia', 'Bohemia',\n",
       "       'Connecticut', 'Rhode Island', 'Colorado', 'West Virginia',\n",
       "       'Russia', 'Scotland', 'Switzerland', 'Cuba', 'Australia', 'Utah',\n",
       "       'Sweden', 'Florida', 'Norway', 'Arkansas', 'Arizona',\n",
       "       \"Prince Edward's Island\", 'Wyoming', 'Oregon', 'New Hampshire',\n",
       "       'Hungary', 'China', 'Denmark', 'Alsace', 'Wales', 'Alaska',\n",
       "       'Montana', 'Poland', 'Delaware', 'On the Sea', 'East Indies'],\n",
       "      dtype=object)"
      ]
     },
     "execution_count": 22,
     "metadata": {},
     "output_type": "execute_result"
    }
   ],
   "source": [
    "df_1.clean_nativity.unique()"
   ]
  },
  {
   "cell_type": "code",
   "execution_count": 12,
   "metadata": {},
   "outputs": [
    {
     "data": {
      "text/plain": [
       "['Alabama',\n",
       " 'Alaska',\n",
       " 'Arizona',\n",
       " 'Arkansas',\n",
       " 'California',\n",
       " 'Colorado',\n",
       " 'Connecticut',\n",
       " 'Delaware',\n",
       " 'District of Columbia',\n",
       " 'Florida',\n",
       " 'Georgia',\n",
       " 'Hawaii',\n",
       " 'Idaho',\n",
       " 'Illinois',\n",
       " 'Indiana',\n",
       " 'Iowa',\n",
       " 'Kansas',\n",
       " 'Kentucky',\n",
       " 'Louisiana',\n",
       " 'Maine',\n",
       " 'Maryland',\n",
       " 'Massachusetts',\n",
       " 'Michigan',\n",
       " 'Minnesota',\n",
       " 'Mississippi',\n",
       " 'Missouri',\n",
       " 'Montana',\n",
       " 'Nebraska',\n",
       " 'Nevada',\n",
       " 'New Hampshire',\n",
       " 'New Jersey',\n",
       " 'New Mexico',\n",
       " 'New York',\n",
       " 'North Carolina',\n",
       " 'North Dakota',\n",
       " 'Ohio',\n",
       " 'Oklahoma',\n",
       " 'Oregon',\n",
       " 'Pennsylvania',\n",
       " 'Puerto Rico',\n",
       " 'Rhode Island',\n",
       " 'South Carolina',\n",
       " 'South Dakota',\n",
       " 'Tennessee',\n",
       " 'Texas',\n",
       " 'Utah',\n",
       " 'Vermont',\n",
       " 'Virginia',\n",
       " 'Virgin Islands',\n",
       " 'Washington',\n",
       " 'West Virginia',\n",
       " 'Wisconsin',\n",
       " 'Wyoming']"
      ]
     },
     "execution_count": 12,
     "metadata": {},
     "output_type": "execute_result"
    }
   ],
   "source": [
    "legend = load_data_or_legend(False)\n",
    "states = list(legend['State Names'].dropna())\n",
    "states"
   ]
  },
  {
   "cell_type": "code",
   "execution_count": 11,
   "metadata": {},
   "outputs": [
    {
     "data": {
      "text/plain": [
       "array(['Massachusetts', 'District of Columbia', 'Pennsylvania', 'Canada',\n",
       "       'California', 'Italy', 'Kentucky', 'England', 'Ohio', 'Iowa',\n",
       "       'New York', 'Missouri', 'Maryland', 'Illinois', 'Wisconsin',\n",
       "       'Ireland', 'Germany', 'France', 'Louisiana', 'Indiana', 'Michigan',\n",
       "       'Minnesota', 'Alabama', 'Virginia', 'Austria', 'New Mexico',\n",
       "       'Mexico', 'Kansas', 'Georgia', 'Indian Territory', 'Texas',\n",
       "       'Prussia', 'North Carolina', 'Isle of Man', 'Nebraska',\n",
       "       'Tennessee', 'Saxony', 'Vermont', 'South Carolina', 'Maine',\n",
       "       'Mississippi', 'New Jersey', 'Nova Scotia', 'Bohemia',\n",
       "       'Connecticut', 'Rhode Island', 'Colorado', 'West Virginia',\n",
       "       'Russia', 'Scotland', 'Switzerland', 'Cuba', 'Australia', 'Utah',\n",
       "       'Sweden', 'Florida', 'Norway', 'Arkansas', 'Arizona',\n",
       "       \"Prince Edward's Island\", 'Wyoming', 'Oregon', 'New Hampshire',\n",
       "       'Hungary', 'China', 'Denmark', 'Alsace', 'Wales', 'Alaska',\n",
       "       'Montana', 'Poland', 'Delaware', 'On the Sea', 'East Indies'],\n",
       "      dtype=object)"
      ]
     },
     "execution_count": 11,
     "metadata": {},
     "output_type": "execute_result"
    }
   ],
   "source": []
  },
  {
   "cell_type": "code",
   "execution_count": 13,
   "metadata": {},
   "outputs": [
    {
     "data": {
      "text/plain": [
       "array(['White', 'Mexican', 'Black', 'Mulatto', 'Indian', 'Mongolian'],\n",
       "      dtype=object)"
      ]
     },
     "execution_count": 13,
     "metadata": {},
     "output_type": "execute_result"
    }
   ],
   "source": [
    "df_1.clean_race.unique()"
   ]
  },
  {
   "cell_type": "code",
   "execution_count": 14,
   "metadata": {},
   "outputs": [],
   "source": [
    "mex_df = df_1[df_1['clean_race']=='Indian Territory']"
   ]
  },
  {
   "cell_type": "code",
   "execution_count": 20,
   "metadata": {},
   "outputs": [
    {
     "data": {
      "text/plain": [
       "New Mexico    22\n",
       "Colorado       8\n",
       "Mexico         2\n",
       "Arizona        1\n",
       "Ireland        1\n",
       "California     1\n",
       "Name: clean_nativity, dtype: int64"
      ]
     },
     "execution_count": 20,
     "metadata": {},
     "output_type": "execute_result"
    }
   ],
   "source": [
    "mex_df.clean_nativity.value_counts()"
   ]
  },
  {
   "cell_type": "code",
   "execution_count": 21,
   "metadata": {},
   "outputs": [
    {
     "data": {
      "text/plain": [
       "35"
      ]
     },
     "execution_count": 21,
     "metadata": {},
     "output_type": "execute_result"
    }
   ],
   "source": [
    "len(mex_df)"
   ]
  },
  {
   "cell_type": "code",
   "execution_count": null,
   "metadata": {},
   "outputs": [],
   "source": []
  },
  {
   "cell_type": "code",
   "execution_count": null,
   "metadata": {},
   "outputs": [],
   "source": []
  },
  {
   "cell_type": "code",
   "execution_count": null,
   "metadata": {},
   "outputs": [],
   "source": []
  },
  {
   "cell_type": "code",
   "execution_count": null,
   "metadata": {},
   "outputs": [],
   "source": []
  },
  {
   "cell_type": "code",
   "execution_count": null,
   "metadata": {},
   "outputs": [],
   "source": []
  }
 ],
 "metadata": {
  "kernelspec": {
   "display_name": "Python 3",
   "language": "python",
   "name": "python3"
  },
  "language_info": {
   "codemirror_mode": {
    "name": "ipython",
    "version": 3
   },
   "file_extension": ".py",
   "mimetype": "text/x-python",
   "name": "python",
   "nbconvert_exporter": "python",
   "pygments_lexer": "ipython3",
   "version": "3.7.9"
  }
 },
 "nbformat": 4,
 "nbformat_minor": 4
}
